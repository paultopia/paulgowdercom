{
 "cells": [
  {
   "cell_type": "code",
   "execution_count": 2,
   "metadata": {
    "collapsed": true
   },
   "outputs": [],
   "source": [
    "import json\n",
    "with open(\"data.json\") as j:\n",
    "    data = json.load(j)"
   ]
  },
  {
   "cell_type": "code",
   "execution_count": 2,
   "metadata": {
    "collapsed": false
   },
   "outputs": [
    {
     "name": "stdout",
     "output_type": "stream",
     "text": [
      "dict_keys(['books', 'cservice', 'uisvc', 'miscpubs', 'invited', 'chapters', 'prarts', 'awards', 'taships', 'other', 'uiteaching', 'conferences', 'bars', 'barnote', 'courses', 'schools', 'lrarts', 'humanlang', 'practice', 'basics', 'uservice', 'dservice', 'campus', 'computerlang', 'positions', 'notes'])\n"
     ]
    }
   ],
   "source": [
    "print(data.keys())"
   ]
  },
  {
   "cell_type": "code",
   "execution_count": 6,
   "metadata": {
    "collapsed": false
   },
   "outputs": [
    {
     "name": "stdout",
     "output_type": "stream",
     "text": [
      "{'venue': 'University of Toronto, Centre for Innovation Law and Policy', 'title': 'Two Models of Technological Change in Law', 'year': '2017'}\n"
     ]
    }
   ],
   "source": [
    "print(data[\"invited\"][0])"
   ]
  },
  {
   "cell_type": "code",
   "execution_count": 7,
   "metadata": {
    "collapsed": false
   },
   "outputs": [
    {
     "name": "stdout",
     "output_type": "stream",
     "text": [
      "{'venue': 'Annual Meeting of the American Philosophical Association, Central Division', 'title': 'Author/Respondent for Author Meets Critics session on The Rule of Law in the Real World', 'year': '2017'}\n"
     ]
    }
   ],
   "source": [
    "print(data[\"conferences\"][0])"
   ]
  },
  {
   "cell_type": "code",
   "execution_count": 8,
   "metadata": {
    "collapsed": false
   },
   "outputs": [
    {
     "name": "stdout",
     "output_type": "stream",
     "text": [
      "{'venue': 'Iowa Legal Studies Workshop', 'title': \"Corruption and the Transnational Litigation Prisoner's Dilemma (Co-Author with Maya Steinitz)\", 'year': '2015'}\n"
     ]
    }
   ],
   "source": [
    "print(data[\"campus\"][0])"
   ]
  },
  {
   "cell_type": "code",
   "execution_count": 9,
   "metadata": {
    "collapsed": true
   },
   "outputs": [],
   "source": [
    "with open(\"presentations.json\", \"w\") as pj:\n",
    "    json.dump({\"invited\": data[\"invited\"], \"conferences\": data[\"conferences\"], \"campus\": data[\"campus\"]}, pj)"
   ]
  },
  {
   "cell_type": "code",
   "execution_count": 10,
   "metadata": {
    "collapsed": false
   },
   "outputs": [
    {
     "name": "stdout",
     "output_type": "stream",
     "text": [
      "[{'school': 'University of Iowa', 'title': 'Torts', 'terms': '2016-', 'notes': ''}, {'school': 'University of Iowa', 'title': 'Constitutional Law I', 'terms': '2016-', 'notes': '(covers federalism and separation of powers)'}, {'school': 'University of Iowa', 'title': 'Constitutional Law II', 'terms': '2012, 2014, 2015-', 'notes': '(covers bill of rights and reconstruction amendments)'}, {'school': 'University of Iowa', 'title': 'Policy Lab', 'terms': '2015-6', 'notes': '(yearlong)'}, {'school': 'University of Iowa', 'title': 'Professional Responsibility', 'terms': '2013, 2014', 'notes': ''}, {'school': 'Stanford University, Educational Program for Gifted Youth <br>(Stanford campus, plus Singapore Honors Academy in 2011)', 'title': 'Topics in Political Science', 'terms': '2010, 2011, 2012', 'notes': ''}]\n"
     ]
    }
   ],
   "source": [
    "print(data[\"courses\"])"
   ]
  },
  {
   "cell_type": "code",
   "execution_count": 3,
   "metadata": {
    "collapsed": false
   },
   "outputs": [
    {
     "name": "stdout",
     "output_type": "stream",
     "text": [
      "[{'notes': '(teaching assistant for Lawrence Lessig)', 'title': 'Corruption Research Seminar', 'school': 'Stanford University', 'terms': '2008'}, {'notes': '(teaching assistant for Helena de Bres and Avia Pasternak)', 'title': 'Introduction to Global Justice', 'school': 'Stanford University', 'terms': '2008'}, {'notes': '(teaching assistant for Debra Satz)', 'title': 'Philosophical Issues Concerning Race and Racism', 'school': 'Stanford University', 'terms': '2008'}, {'notes': '(teaching assistant for Nadeem Hussein)', 'title': 'Introduction to Political Philosophy', 'school': 'Stanford University', 'terms': '2007'}]\n"
     ]
    }
   ],
   "source": [
    "print(data[\"taships\"])"
   ]
  },
  {
   "cell_type": "code",
   "execution_count": 4,
   "metadata": {
    "collapsed": true
   },
   "outputs": [],
   "source": [
    "with open(\"courses.json\", \"w\") as pj:\n",
    "    json.dump({\"lead\": data[\"courses\"], \"ta\": data[\"taships\"]}, pj)"
   ]
  },
  {
   "cell_type": "code",
   "execution_count": 6,
   "metadata": {
    "collapsed": false
   },
   "outputs": [],
   "source": [
    "with open(\"basic.json\", \"w\") as pj:\n",
    "    json.dump({\"core\": data[\"basics\"], \"education\": data[\"schools\"], \"positions\": data[\"positions\"]}, pj)"
   ]
  },
  {
   "cell_type": "code",
   "execution_count": null,
   "metadata": {
    "collapsed": true
   },
   "outputs": [],
   "source": []
  }
 ],
 "metadata": {
  "kernelspec": {
   "display_name": "Python 3",
   "language": "python",
   "name": "python3"
  },
  "language_info": {
   "codemirror_mode": {
    "name": "ipython",
    "version": 3
   },
   "file_extension": ".py",
   "mimetype": "text/x-python",
   "name": "python",
   "nbconvert_exporter": "python",
   "pygments_lexer": "ipython3",
   "version": "3.5.1"
  }
 },
 "nbformat": 4,
 "nbformat_minor": 0
}
