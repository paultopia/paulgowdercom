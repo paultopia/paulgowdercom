{
 "cells": [
  {
   "cell_type": "code",
   "execution_count": 1,
   "metadata": {
    "collapsed": true
   },
   "outputs": [],
   "source": [
    "import json\n",
    "with open(\"data.json\") as dj:\n",
    "    old=json.load(dj)"
   ]
  },
  {
   "cell_type": "code",
   "execution_count": 17,
   "metadata": {
    "collapsed": false
   },
   "outputs": [
    {
     "name": "stdout",
     "output_type": "stream",
     "text": [
      "dict_keys(['taships', 'courses', 'awards', 'cservice', 'barnote', 'other', 'lrarts', 'notes', 'practice', 'dservice', 'uiteaching', 'uservice', 'computerlang', 'bars', 'basics', 'positions', 'schools', 'miscpubs', 'conferences', 'humanlang', 'invited', 'chapters', 'campus', 'prarts', 'books', 'uisvc'])\n"
     ]
    }
   ],
   "source": [
    "print(old.keys())"
   ]
  },
  {
   "cell_type": "code",
   "execution_count": 16,
   "metadata": {
    "collapsed": false
   },
   "outputs": [
    {
     "name": "stdout",
     "output_type": "stream",
     "text": [
      "{'issue': '5', 'volume': '32', 'lastpage': '618', 'firstpage': '565'}\n",
      "{'lastpage': '559', 'volume': '35', 'firstpage': '537'}\n"
     ]
    }
   ],
   "source": [
    "import re\n",
    "def cite_transformer(cite):\n",
    "    parsed = [x for x in re.split(\"[\\(\\):-]\", cite) if x]\n",
    "    if len(parsed) == 4:\n",
    "        return {\"volume\": parsed[0], \"issue\": parsed[1], \"firstpage\": parsed[2], \"lastpage\": parsed[3]}\n",
    "    return {\"volume\": parsed[0], \"firstpage\": parsed[1], \"lastpage\": parsed[2]}\n",
    "print(cite_transformer(\"32(5):565-618\"))\n",
    "print(cite_transformer(\"35:537-559\"))\n"
   ]
  },
  {
   "cell_type": "code",
   "execution_count": 38,
   "metadata": {
    "collapsed": false
   },
   "outputs": [],
   "source": [
    "def pub_to_pub(pub, type):\n",
    "    if pub.get('description'):\n",
    "        note = pub[\"description\"]\n",
    "    else:\n",
    "        note = pub.get(\"wordnote\")\n",
    "    if pub.get(\"cite\"):\n",
    "        cite = cite_transformer(pub[\"cite\"])\n",
    "    elif pub.get(\"pages\"):\n",
    "        ctemp = pub[\"pages\"].split(\"-\")\n",
    "        cite = {\"firstpage\": ctemp[0], \"lastpage\": ctemp[1]}\n",
    "    else:\n",
    "        cite = {}\n",
    "    if pub.get(\"url\"):\n",
    "        link = pub[\"url\"]\n",
    "    else:\n",
    "        link = pub.get(\"publink\")\n",
    "    return {\n",
    "        \"type\": type,\n",
    "        \"title\": pub.get(\"title\"),\n",
    "        \"journal\": pub.get(\"journal\"),\n",
    "        \"book\": pub.get(\"book\"),\n",
    "        \"editor\": pub.get(\"editors\"),\n",
    "        \"publisher\": pub.get(\"publisher\"),\n",
    "        \"publink\": link,\n",
    "        \"altlink\": pub.get(\"altlink\"),\n",
    "        \"coauthor\": pub.get(\"coauthor\"),\n",
    "        \"year\": pub.get(\"year\"),\n",
    "        \"abstract\": pub.get(\"abstract\"),\n",
    "        \"issue\": cite.get(\"issue\"),\n",
    "        \"volume\": cite.get(\"volume\"),\n",
    "        \"firstpage\": cite.get(\"firstpage\"),\n",
    "        \"lastpage\": cite.get(\"lastpage\"),\n",
    "        \"note\": note\n",
    "           }"
   ]
  },
  {
   "cell_type": "code",
   "execution_count": 42,
   "metadata": {
    "collapsed": false
   },
   "outputs": [
    {
     "data": {
      "text/plain": [
       "{'abstract': 'This paper draws on a case study of the Athenian amnesty after the blood-soaked rule of the Thirty Tyrants (404-3 B.C.E.) to draw out some ideas about the role of commitment-keeping in transitional justice. There is an important value, for the maintenance of the rule of law, to a transitional democracy in keeping its post-conflict legal commitments, independent of the substantive content of those commitments (e.g., to offer amnesty to the prior regime, to prosecute that regime, etc.).<br><br>I also argue that the Athenian mass jury, because of its size, publicity, and representativeness, had an unusual capacity to help democratic citizens signal their commitment to the rule of law to their fellows: it allowed them to indicate their willingness to sacrifice their personal preferences (punishing oligarchs) in the cause of upholding the law, by voting in accordance in the jury-room. In transitional conditions, this signaling function is critically important in building a record of legal trust to strengthen nascent democratic legal systems; the paper closes by suggesting that the truth commissions often seen in contemporary transitional states can serve some of the same functions.',\n",
       " 'altlink': None,\n",
       " 'book': 'Theorizing Transitional Justice',\n",
       " 'coauthor': None,\n",
       " 'editor': 'Corradetti, Eiskovits, and Rotondi',\n",
       " 'firstpage': '225',\n",
       " 'issue': None,\n",
       " 'journal': None,\n",
       " 'lastpage': '236',\n",
       " 'note': None,\n",
       " 'publink': None,\n",
       " 'publisher': 'Ashgate',\n",
       " 'title': 'Trust and Commitment: How Athens Rebuilt the Rule of Law',\n",
       " 'type': 'misc',\n",
       " 'volume': None,\n",
       " 'year': '2015'}"
      ]
     },
     "execution_count": 42,
     "metadata": {},
     "output_type": "execute_result"
    }
   ],
   "source": [
    "pub_to_pub(old[\"chapters\"][0], \"misc\")"
   ]
  },
  {
   "cell_type": "code",
   "execution_count": 44,
   "metadata": {
    "collapsed": false
   },
   "outputs": [],
   "source": [
    "lr = [pub_to_pub(x, \"law review\") for x in old[\"lrarts\"]]"
   ]
  },
  {
   "cell_type": "code",
   "execution_count": 47,
   "metadata": {
    "collapsed": false
   },
   "outputs": [],
   "source": [
    "pr = [pub_to_pub(x, \"peer review\") for x in old[\"prarts\"]]\n",
    "ch = [pub_to_pub(x, \"chapter\") for x in old[\"chapters\"]]\n",
    "b = [pub_to_pub(x, \"book\") for x in old[\"books\"]]\n",
    "misc = [pub_to_pub(x, \"misc\") for x in old[\"miscpubs\"]]\n",
    "publications = lr + pr + ch + b + misc"
   ]
  },
  {
   "cell_type": "code",
   "execution_count": 48,
   "metadata": {
    "collapsed": false
   },
   "outputs": [
    {
     "name": "stdout",
     "output_type": "stream",
     "text": [
      "29\n"
     ]
    }
   ],
   "source": [
    "print(len(publications))"
   ]
  },
  {
   "cell_type": "code",
   "execution_count": 49,
   "metadata": {
    "collapsed": true
   },
   "outputs": [],
   "source": [
    "with open(\"publications.json\", \"w\") as pj:\n",
    "    json.dump(publications, pj)"
   ]
  },
  {
   "cell_type": "code",
   "execution_count": null,
   "metadata": {
    "collapsed": true
   },
   "outputs": [],
   "source": []
  }
 ],
 "metadata": {
  "kernelspec": {
   "display_name": "Python 3",
   "language": "python",
   "name": "python3"
  },
  "language_info": {
   "codemirror_mode": {
    "name": "ipython",
    "version": 3
   },
   "file_extension": ".py",
   "mimetype": "text/x-python",
   "name": "python",
   "nbconvert_exporter": "python",
   "pygments_lexer": "ipython3",
   "version": "3.5.1"
  }
 },
 "nbformat": 4,
 "nbformat_minor": 0
}
